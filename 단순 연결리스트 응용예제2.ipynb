{
 "cells": [
  {
   "cell_type": "markdown",
   "id": "d61bf661",
   "metadata": {},
   "source": [
    "# 단순 연결리스트 응용예제2"
   ]
  },
  {
   "cell_type": "code",
   "execution_count": 106,
   "id": "9fa6f4f0",
   "metadata": {},
   "outputs": [
    {
     "name": "stdout",
     "output_type": "stream",
     "text": [
      "23 28 31 38 43 45 \n"
     ]
    }
   ],
   "source": [
    "import random\n",
    "\n",
    "class Node() :\n",
    "    def __init__ (self) :\n",
    "        self.data = None\n",
    "        self.link = None\n",
    "\n",
    "def printNodes(start) :\n",
    "    current = start\n",
    "    if current == None :\n",
    "        return\n",
    "    print(current.data, end=' ')\n",
    "    while current.link != None:\n",
    "        current = current.link\n",
    "        print(current.data, end=' ')\n",
    "    print()\n",
    "\n",
    "def makeLottoList(num) :\n",
    "    global memory, head, current, pre\n",
    "\n",
    "    node = Node()\n",
    "    node.data = num\n",
    "    memory.append(node)\n",
    "    if head == None :\n",
    "        head = node\n",
    "        return\n",
    "\n",
    "    if head.data > num :\n",
    "        node.link = head\n",
    "        head = node\n",
    "        return\n",
    "\n",
    "    current = head\n",
    "    while current.link != None :\n",
    "        pre = current\n",
    "        current = current.link\n",
    "        if current.data > num:\n",
    "            pre.link = node\n",
    "            node.link = current\n",
    "            return\n",
    "\n",
    "    current.link = node\n",
    "\n",
    "def  findNumber(num) :\n",
    "    global memory, head, current, pre\n",
    "\n",
    "    if head == None :\n",
    "        return False\n",
    "    current = head\n",
    "    if current.data == num:\n",
    "        return True\n",
    "    while current.link != None:\n",
    "        current = current.link\n",
    "        if current.data == num:\n",
    "            return True\n",
    "    return False\n",
    "\n",
    "memory = []\n",
    "head, current, pre = None, None, None\n",
    "\n",
    "if __name__ == \"__main__\" :\n",
    "\n",
    "    lottoCount = 0\n",
    "    while True:\n",
    "        lotto = random.randint(1,45)\n",
    "        if findNumber(lotto) :\n",
    "            continue\n",
    "        lottoCount += 1\n",
    "        makeLottoList(lotto)\n",
    "        if lottoCount >= 6 :\n",
    "            break\n",
    "\n",
    "    printNodes(head)\n"
   ]
  }
 ],
 "metadata": {
  "kernelspec": {
   "display_name": "Python 3 (ipykernel)",
   "language": "python",
   "name": "python3"
  },
  "language_info": {
   "codemirror_mode": {
    "name": "ipython",
    "version": 3
   },
   "file_extension": ".py",
   "mimetype": "text/x-python",
   "name": "python",
   "nbconvert_exporter": "python",
   "pygments_lexer": "ipython3",
   "version": "3.9.12"
  }
 },
 "nbformat": 4,
 "nbformat_minor": 5
}
