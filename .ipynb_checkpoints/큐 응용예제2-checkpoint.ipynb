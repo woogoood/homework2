{
 "cells": [
  {
   "cell_type": "markdown",
   "id": "c3782780",
   "metadata": {},
   "source": [
    "# 큐 응용예제2"
   ]
  },
  {
   "cell_type": "code",
   "execution_count": 25,
   "id": "a8d45172",
   "metadata": {},
   "outputs": [
    {
     "name": "stdout",
     "output_type": "stream",
     "text": [
      "귀하의 대기 예상시간은  0 분입니다.\n",
      "현재 대기 콜 -->  [None, None, None, None, None, None]\n",
      "\n",
      "귀하의 대기 예상시간은  9 분입니다.\n",
      "현재 대기 콜 -->  [None, ('사용', 9), None, None, None, None]\n",
      "\n",
      "귀하의 대기 예상시간은  12 분입니다.\n",
      "현재 대기 콜 -->  [None, ('사용', 9), ('고장', 3), None, None, None]\n",
      "\n",
      "귀하의 대기 예상시간은  16 분입니다.\n",
      "현재 대기 콜 -->  [None, ('사용', 9), ('고장', 3), ('환불', 4), None, None]\n",
      "\n",
      "귀하의 대기 예상시간은  20 분입니다.\n",
      "현재 대기 콜 -->  [None, ('사용', 9), ('고장', 3), ('환불', 4), ('환불', 4), None]\n",
      "\n",
      "최종 대기 콜 -->  [None, ('사용', 9), ('고장', 3), ('환불', 4), ('환불', 4), ('고장', 3)]\n",
      "프로그램 종료!\n"
     ]
    }
   ],
   "source": [
    "def isQueueFull() :\n",
    "    global SIZE, queue, front, rear\n",
    "    if ( (rear + 1) % SIZE == front) :\n",
    "        return True\n",
    "    else :\n",
    "        return False\n",
    "\n",
    "def isQueueEmpty() :\n",
    "    global SIZE, queue, front, rear\n",
    "    if (front == rear) :\n",
    "        return True\n",
    "    else :\n",
    "        return False\n",
    "\n",
    "def enQueue(data) :\n",
    "    global SIZE, queue, front, rear\n",
    "    if (isQueueFull()) :\n",
    "        print(\"큐가 꽉 찼습니다.\")\n",
    "        return\n",
    "    rear = (rear + 1) % SIZE\n",
    "    queue[rear] = data\n",
    "\n",
    "def deQueue() :\n",
    "    global SIZE, queue, front, rear\n",
    "    if (isQueueEmpty()) :\n",
    "        print(\"큐가 비었습니다.\")\n",
    "        return None\n",
    "    front = (front + 1) % SIZE\n",
    "    data = queue[front]\n",
    "    queue[front] = None\n",
    "    return data\n",
    "\n",
    "def peek() :\n",
    "    global SIZE, queue, front, rear\n",
    "    if (isQueueEmpty()) :\n",
    "        print(\"큐가 비었습니다.\")\n",
    "        return None\n",
    "    return queue[(front + 1) % SIZE]\n",
    "\n",
    "def calcTime() :\n",
    "    global SIZE, queue, front, rear\n",
    "    timeSum = 0\n",
    "    for i in range((front+1)% SIZE, (rear+1)%SIZE) :\n",
    "        timeSum += queue[i][1]\n",
    "    return timeSum\n",
    "\n",
    "SIZE = 6\n",
    "queue = [ None for _ in range(SIZE) ]\n",
    "front = rear = 0\n",
    "\n",
    "if __name__ == \"__main__\" :\n",
    "    waitCall = [('사용', 9), ('고장', 3), ('환불', 4), ('환불', 4), ('고장', 3)]\n",
    "\n",
    "    for call in waitCall :\n",
    "        print(\"귀하의 대기 예상시간은 \", calcTime(), \"분입니다.\")\n",
    "        print(\"현재 대기 콜 --> \", queue)\n",
    "        enQueue(call)\n",
    "        print()\n",
    "\n",
    "    print(\"최종 대기 콜 --> \", queue)\n",
    "    print(\"프로그램 종료!\")\n"
   ]
  }
 ],
 "metadata": {
  "kernelspec": {
   "display_name": "Python 3 (ipykernel)",
   "language": "python",
   "name": "python3"
  },
  "language_info": {
   "codemirror_mode": {
    "name": "ipython",
    "version": 3
   },
   "file_extension": ".py",
   "mimetype": "text/x-python",
   "name": "python",
   "nbconvert_exporter": "python",
   "pygments_lexer": "ipython3",
   "version": "3.9.12"
  }
 },
 "nbformat": 4,
 "nbformat_minor": 5
}
