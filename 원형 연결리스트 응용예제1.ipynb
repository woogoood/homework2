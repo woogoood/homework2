{
 "cells": [
  {
   "cell_type": "markdown",
   "id": "c9bb86cf",
   "metadata": {},
   "source": [
    "# 원형 연결리스트 응용예제1"
   ]
  },
  {
   "cell_type": "code",
   "execution_count": 58,
   "id": "a4f7065f",
   "metadata": {},
   "outputs": [
    {
     "name": "stdout",
     "output_type": "stream",
     "text": [
      "E 편의점, 거리: 60.30754513325841\n",
      "G 편의점, 거리: 82.97590011563598\n",
      "D 편의점, 거리: 85.0411665018772\n",
      "I 편의점, 거리: 95.44108130150245\n",
      "J 편의점, 거리: 98.18350166906862\n",
      "H 편의점, 거리: 104.62313319720452\n",
      "C 편의점, 거리: 105.47511554864494\n",
      "B 편의점, 거리: 113.44161493913951\n",
      "F 편의점, 거리: 135.05924625881784\n",
      "\n"
     ]
    }
   ],
   "source": [
    "import random\n",
    "import math\n",
    "\n",
    "class Node() :\n",
    "    def __init__ (self) :\n",
    "        self.data = None\n",
    "        self.link = None\n",
    "\n",
    "def printStores(start) :\n",
    "    current = start\n",
    "    if current == None :\n",
    "        return\n",
    "\n",
    "    while current.link != head:\n",
    "        current = current.link\n",
    "        x, y = current.data[1:]\n",
    "        print(current.data[0], '편의점, 거리:', math.sqrt(x*x + y*y))\n",
    "    print()\n",
    "\n",
    "def  makeStoreList(store) :\n",
    "    global memory, head, current, pre\n",
    "\n",
    "    node = Node()\n",
    "    node.data = store\n",
    "    memory.append(node)\n",
    "\n",
    "    if head == None :\n",
    "        head = node\n",
    "        node.link = head\n",
    "        return\n",
    "\n",
    "    nodeX, nodeY = node.data[1:]\n",
    "    nodeDist = math.sqrt(nodeX*nodeX + nodeY*nodeY)\n",
    "    headX, headY = head.data[1:]\n",
    "    headDist = math.sqrt(headX*headX + headY*headY)\n",
    "\n",
    "    if headDist > nodeDist :\n",
    "        node.link = head\n",
    "        last = head\n",
    "        while last.link != head :\n",
    "            last = last.link\n",
    "        last.link = node\n",
    "        head = node\n",
    "        return\n",
    "\n",
    "    current = head\n",
    "    while current.link != head :\n",
    "        pre = current\n",
    "        current = current.link\n",
    "        currX, currY = current.data[1:]\n",
    "        currDist = math.sqrt(currX*currX + currY*currY)\n",
    "        if currDist > nodeDist :\n",
    "            pre.link = node\n",
    "            node.link = current\n",
    "            return\n",
    "\n",
    "    current.link = node\n",
    "    node.link = head\n",
    "\n",
    "memory = []\n",
    "head, current, pre = None, None, None\n",
    "\n",
    "if __name__ == \"__main__\" :\n",
    "\n",
    "    storeArray = []\n",
    "    storeName = 'A'\n",
    "    for _ in range(10) :\n",
    "        store = (storeName, random.randint(1, 100), random.randint(1, 100) )\n",
    "        storeArray.append(store)\n",
    "        storeName = chr(ord(storeName) + 1)\n",
    "\n",
    "    for store in storeArray :\n",
    "        makeStoreList(store)\n",
    "\n",
    "    printStores(head)\n"
   ]
  }
 ],
 "metadata": {
  "kernelspec": {
   "display_name": "Python 3 (ipykernel)",
   "language": "python",
   "name": "python3"
  },
  "language_info": {
   "codemirror_mode": {
    "name": "ipython",
    "version": 3
   },
   "file_extension": ".py",
   "mimetype": "text/x-python",
   "name": "python",
   "nbconvert_exporter": "python",
   "pygments_lexer": "ipython3",
   "version": "3.9.12"
  }
 },
 "nbformat": 4,
 "nbformat_minor": 5
}
