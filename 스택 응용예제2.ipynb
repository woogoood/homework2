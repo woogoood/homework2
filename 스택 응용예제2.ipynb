{
 "cells": [
  {
   "cell_type": "markdown",
   "id": "733fbf13",
   "metadata": {},
   "source": [
    "# 스택 응용예제2"
   ]
  },
  {
   "cell_type": "code",
   "execution_count": 18,
   "id": "eaa0a06e",
   "metadata": {},
   "outputs": [
    {
     "name": "stdout",
     "output_type": "stream",
     "text": [
      "----- 원본 -----\n",
      "진달래꽃\n",
      " 나 보기가 역겨워\n",
      " 가실 때에는\n",
      " 말없이 고이 보내드리오리다. \n",
      "----- 거꾸로 처리된 결과 -----\n",
      ".다리오리드내보 이고 이없말\n",
      "는에때 실가\n",
      "워겨역 가기보 나\n",
      "꽃래달진"
     ]
    }
   ],
   "source": [
    "def isStackFull() :\n",
    "    global SIZE, stack, top\n",
    "    if (top >= SIZE-1) :\n",
    "        return True\n",
    "    else :\n",
    "        return False\n",
    "\n",
    "def isStackEmpty() :\n",
    "    global SIZE, stack, top\n",
    "    if (top == -1) :\n",
    "        return True\n",
    "    else :\n",
    "        return False\n",
    "\n",
    "def push(data) :\n",
    "    global SIZE, stack, top\n",
    "    if (isStackFull()) :\n",
    "        return\n",
    "    top += 1\n",
    "    stack[top] = data\n",
    "\n",
    "def pop() :\n",
    "    global SIZE, stack, top\n",
    "    if (isStackEmpty()) :\n",
    "        return None\n",
    "    data = stack[top]\n",
    "    stack[top] = None\n",
    "    top -= 1\n",
    "    return data\n",
    "\n",
    "def peek() :\n",
    "    global SIZE, stack, top\n",
    "    if (isStackEmpty()) :\n",
    "        return None\n",
    "    return stack[top]\n",
    "\n",
    "SIZE = 100\n",
    "stack = [ None for _ in range(SIZE) ]\n",
    "top = -1\n",
    "\n",
    "if __name__ == \"__main__\" :\n",
    "\n",
    "    with open(\"진달래꽃.txt\", 'r', encoding='UTF8') as rfp :\n",
    "        lineAry = rfp.readlines()\n",
    "\n",
    "    print(\"----- 원본 -----\")\n",
    "    for line in lineAry :\n",
    "        push(line)\n",
    "        print(line, end = ' ')\n",
    "    print()\n",
    "\n",
    "    print(\"----- 거꾸로 처리된 결과 -----\")\n",
    "    while True :\n",
    "        line = pop()\n",
    "        if line == None :\n",
    "            break\n",
    "\n",
    "        miniStack = [None for _ in range(len(line))]\n",
    "        miniTop = -1\n",
    "\n",
    "        for ch in line :\n",
    "            miniTop += 1\n",
    "            miniStack[miniTop] = ch\n",
    "\n",
    "        while True :\n",
    "            if miniTop == -1 :\n",
    "                break\n",
    "            ch = miniStack[miniTop]\n",
    "            miniTop -= 1\n",
    "            print(ch, end = '')\n"
   ]
  }
 ],
 "metadata": {
  "kernelspec": {
   "display_name": "Python 3 (ipykernel)",
   "language": "python",
   "name": "python3"
  },
  "language_info": {
   "codemirror_mode": {
    "name": "ipython",
    "version": 3
   },
   "file_extension": ".py",
   "mimetype": "text/x-python",
   "name": "python",
   "nbconvert_exporter": "python",
   "pygments_lexer": "ipython3",
   "version": "3.9.12"
  }
 },
 "nbformat": 4,
 "nbformat_minor": 5
}
